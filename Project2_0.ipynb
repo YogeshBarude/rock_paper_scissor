{
  "nbformat": 4,
  "nbformat_minor": 5,
  "metadata": {
    "kernelspec": {
      "display_name": "Python 3",
      "language": "python",
      "name": "python3"
    },
    "language_info": {
      "codemirror_mode": {
        "name": "ipython",
        "version": 3
      },
      "file_extension": ".py",
      "mimetype": "text/x-python",
      "name": "python",
      "nbconvert_exporter": "python",
      "pygments_lexer": "ipython3",
      "version": "3.8.8"
    },
    "colab": {
      "name": "Project2.0.ipynb",
      "provenance": [],
      "include_colab_link": true
    }
  },
  "cells": [
    {
      "cell_type": "markdown",
      "metadata": {
        "id": "view-in-github",
        "colab_type": "text"
      },
      "source": [
        "<a href=\"https://colab.research.google.com/github/YogeshBarude/rock_paper_scissor/blob/main/Project2_0.ipynb\" target=\"_parent\"><img src=\"https://colab.research.google.com/assets/colab-badge.svg\" alt=\"Open In Colab\"/></a>"
      ]
    },
    {
      "cell_type": "markdown",
      "metadata": {
        "id": "bb01f6b5"
      },
      "source": [
        "#  Rock ,Paper & Scissors"
      ],
      "id": "bb01f6b5"
    },
    {
      "cell_type": "code",
      "metadata": {
        "colab": {
          "base_uri": "https://localhost:8080/"
        },
        "id": "c6a2a905",
        "outputId": "80bf2a79-2f0a-4e5a-998d-6cb6223b5979"
      },
      "source": [
        "## user input\n",
        "print(\"Lets play Rock, Paper and Scissor\")\n",
        "player1 = str(input(\"Choose between r/p/s [Rock, Paper or scissors]\\n\"))\n",
        "player2 = str(input(\"Choose between r/p/s [Rock, Paper or scissors]\\n\"))\n",
        "\n",
        "##logic using conditional checks\n",
        "if (player1=='r') and (player2=='r'):\n",
        "    print(\"Player1 choose {option} and Player2 choose {option2}\".format(option=player1,option2=player2))\n",
        "    print(\"That's a tie\")\n",
        "elif (player1=='r') and (player2=='p'):\n",
        "    print(\"Player1 choose {option} and Player2 choose {option2}\".format(option=player1,option2=player2))\n",
        "    print(\"Player2 has won the game\")\n",
        "elif (player1=='r') and (player2=='s'):\n",
        "    print(\"Player1 choose {option} and Player2 choose {option2}\".format(option=player1,option2=player2))\n",
        "    print(\"Player1 won the game\")\n",
        "    \n",
        "### logic for paper\n",
        "elif (player1=='p') and (player2=='r'):\n",
        "    print(\"Player1 choose {option} and Player2 choose {option2}\".format(option=player1,option2=player2))\n",
        "    print(\"Player1 won the game\")\n",
        "elif (player1=='p') and (player2=='p'):\n",
        "    print(\"Player1 choose {option} and Player2 choose {option2}\".format(option=player1,option2=player2))\n",
        "    print(\"That's a tie\")\n",
        "elif (player1=='p') and (player2=='s'):\n",
        "    print(\"Player1 choose {option} and Player2 choose {option2}\".format(option=player1,option2=player2))\n",
        "    print(\"Player 2 won the game\")\n",
        "    \n",
        "## logic for scissor\n",
        "elif (player1=='s') and (player2=='r'):\n",
        "    print(\"Player1 choose {option} and Player2 choose {option2}\".format(option=player1,option2=player2))\n",
        "    print(\"Player1 won the game\")\n",
        "elif (player1=='s') and (player2=='p'):\n",
        "    print(\"Player1 choose {option} and Player2 choose {option2}\".format(option=player1,option2=player2))\n",
        "    print(\"Player1 won the game\")\n",
        "elif (player1=='s') and (player2=='s'):\n",
        "    print(\"Player1 choose {option} and Player2 choose {option2}\".format(option=player1,option2=player2))\n",
        "    print(\"That's a tie\")\n",
        "\n",
        "## logic for error\n",
        "else:\n",
        "    print(\"Error choose correct option\")\n"
      ],
      "id": "c6a2a905",
      "execution_count": null,
      "outputs": [
        {
          "output_type": "stream",
          "name": "stdout",
          "text": [
            "Lets play Rock, Paper and Scissor\n",
            "Choose between r/p/s [Rock, Paper or scissors]\n",
            "r\n",
            "Choose between r/p/s [Rock, Paper or scissors]\n",
            "p\n",
            "Player1 choose r and Player2 choose p\n",
            "Player2 has won the game\n"
          ]
        }
      ]
    },
    {
      "cell_type": "code",
      "metadata": {
        "id": "411f22b7"
      },
      "source": [
        ""
      ],
      "id": "411f22b7",
      "execution_count": null,
      "outputs": []
    }
  ]
}